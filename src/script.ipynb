{
 "cells": [
  {
   "cell_type": "code",
   "execution_count": 84,
   "metadata": {},
   "outputs": [],
   "source": [
    "from bs4 import BeautifulSoup\n",
    "import re\n",
    "with open(\"content/symposium copy.html\", \"r\") as f:\n",
    "    cont = f.read()\n",
    "    cont = re.sub(r'<span class=\"num\">.*</span>', '', cont)\n",
    "    cont = re.sub(r'\\[<a name=\"s\\d+\" href=\"#r\\d+\"><b>(\\d+)</b></a>\\]', r\"{\\1}\", cont)\n",
    "    cont = re.sub(\n",
    "        r'(?<=<blockquote>)(?:\\n*)<p>((?:.|\\n)+?)</p>',\n",
    "        r'> \\1\\n',\n",
    "        cont\n",
    "    )\n",
    "    cont = re.sub(r'<br />', r'$', cont)\n",
    "    cont = re.sub(r'</p><blockquote>', '$$', cont)\n",
    "    cont = re.sub(r'</blockquote>\\n*<p>', '$$', cont)\n",
    "    cont = re.sub(\"–\", \"—\", cont)\n",
    "    soup = BeautifulSoup(cont)"
   ]
  },
  {
   "cell_type": "code",
   "execution_count": 85,
   "metadata": {},
   "outputs": [],
   "source": [
    "processed = list(map(lambda x: re.sub(r\" *\\$ *\", \"  \\n\", re.sub(r\" *\\$\\$ *\", \"\\n\\n\", re.sub('\\n+', \" \", x.text))).strip(), soup.find_all(\"p\")))"
   ]
  },
  {
   "cell_type": "code",
   "execution_count": 86,
   "metadata": {},
   "outputs": [],
   "source": [
    "dialogue = list(\n",
    "    map(lambda x: {\"speaker\": None, \"speech\": x}, processed)\n",
    ")"
   ]
  },
  {
   "cell_type": "code",
   "execution_count": 87,
   "metadata": {},
   "outputs": [],
   "source": [
    "import json\n",
    "with open(\"json.json\", \"w\") as f:\n",
    "    json.dump(dialogue, f, ensure_ascii=False)"
   ]
  },
  {
   "cell_type": "code",
   "execution_count": null,
   "metadata": {},
   "outputs": [],
   "source": []
  }
 ],
 "metadata": {
  "kernelspec": {
   "display_name": "plato-A-97o9iW-py3.11",
   "language": "python",
   "name": "python3"
  },
  "language_info": {
   "codemirror_mode": {
    "name": "ipython",
    "version": 3
   },
   "file_extension": ".py",
   "mimetype": "text/x-python",
   "name": "python",
   "nbconvert_exporter": "python",
   "pygments_lexer": "ipython3",
   "version": "3.11.6"
  }
 },
 "nbformat": 4,
 "nbformat_minor": 2
}
